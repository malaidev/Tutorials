{
  "nbformat": 4,
  "nbformat_minor": 0,
  "metadata": {
    "colab": {
      "name": "Quantization of TF model.ipynb",
      "provenance": [],
      "collapsed_sections": []
    },
    "kernelspec": {
      "display_name": "Python 3",
      "name": "python3"
    }
  },
  "cells": [
    {
      "cell_type": "markdown",
      "source": [
        "## Overview\n",
        "\n",
        "Quantization is an optimization strategy that converts 32-bit floating-point numbers (such as weights and activation outputs) to lower precision numbers (int8, f16, etc.). This results in a smaller model and increased inferencing speed, which is valuable for low-power devices such as [microcontrollers](https://www.tensorflow.org/lite/microcontrollers). This data format is also required by integer-only accelerators such as the [Edge TPU](https://coral.ai/).\n",
        "\n",
        "In this tutorial, you'll train an MNIST model from scratch, convert it into a Tensorflow Lite file, and quantize it. Finally, you'll check the accuracy of the converted models and compare it to the original float model.\n",
        "\n",
        "You actually have several options as to how much you want to quantize a model.\n",
        "\n",
        "[![Open In Colab](https://colab.research.google.com/assets/colab-badge.svg)](https://colab.research.google.com/github/hotg-ai/tutorials/blob/main/lesson-7/Quantization_of_TF_model.ipynb)\n"
      ],
      "metadata": {
        "id": "BTC1rDAuei_1"
      }
    },
    {
      "cell_type": "markdown",
      "source": [
        "## Setup"
      ],
      "metadata": {
        "id": "dDqqUIZjZjac"
      }
    },
    {
      "cell_type": "markdown",
      "source": [
        "In order to quantize model, we need to use APIs added in TensorFlow r2.3:"
      ],
      "metadata": {
        "id": "I0nR5AMEWq0H"
      }
    },
    {
      "cell_type": "code",
      "execution_count": 3,
      "source": [
        "import logging\n",
        "logging.getLogger(\"tensorflow\").setLevel(logging.DEBUG)\n",
        "\n",
        "import tensorflow as tf\n",
        "import numpy as np\n",
        "assert float(tf.__version__[:3]) >= 2.3"
      ],
      "outputs": [],
      "metadata": {
        "id": "WsN6s5L1ieNl"
      }
    },
    {
      "cell_type": "markdown",
      "source": [
        "## Generate a TensorFlow Model"
      ],
      "metadata": {
        "id": "2XsEP17Zelz9"
      }
    },
    {
      "cell_type": "markdown",
      "source": [
        "We'll build a simple model to classify numbers from the [MNIST dataset](https://www.tensorflow.org/datasets/catalog/mnist).\n",
        "\n",
        "This training won't take long because you're training the model for just a 5 epochs, which trains to about ~98% accuracy."
      ],
      "metadata": {
        "id": "5NMaNZQCkW9X"
      }
    },
    {
      "cell_type": "code",
      "execution_count": 2,
      "source": [
        "# Load MNIST dataset\n",
        "mnist = tf.keras.datasets.mnist\n",
        "(train_images, train_labels), (test_images, test_labels) = mnist.load_data()\n",
        "\n",
        "# Normalize the input image so that each pixel value is between 0 to 1.\n",
        "train_images = train_images.astype(np.float32) / 255.0\n",
        "test_images = test_images.astype(np.float32) / 255.0\n",
        "\n",
        "# Define the model architecture\n",
        "model = tf.keras.Sequential([\n",
        "  tf.keras.layers.InputLayer(input_shape=(28, 28)),\n",
        "  tf.keras.layers.Reshape(target_shape=(28, 28, 1)),\n",
        "  tf.keras.layers.Conv2D(filters=12, kernel_size=(3, 3), activation='relu'),\n",
        "  tf.keras.layers.MaxPooling2D(pool_size=(2, 2)),\n",
        "  tf.keras.layers.Flatten(),\n",
        "  tf.keras.layers.Dense(10)\n",
        "])\n",
        "\n",
        "# Train the digit classification model\n",
        "model.compile(optimizer='adam',\n",
        "              loss=tf.keras.losses.SparseCategoricalCrossentropy(\n",
        "                  from_logits=True),\n",
        "              metrics=['accuracy'])\n",
        "model.fit(\n",
        "  train_images,\n",
        "  train_labels,\n",
        "  epochs=5,\n",
        "  validation_data=(test_images, test_labels)\n",
        ")"
      ],
      "outputs": [
        {
          "output_type": "stream",
          "name": "stdout",
          "text": [
            "Downloading data from https://storage.googleapis.com/tensorflow/tf-keras-datasets/mnist.npz\n",
            "11493376/11490434 [==============================] - 0s 0us/step\n",
            "11501568/11490434 [==============================] - 0s 0us/step\n",
            "Epoch 1/5\n",
            "1875/1875 [==============================] - 27s 14ms/step - loss: 0.3281 - accuracy: 0.9078 - val_loss: 0.1877 - val_accuracy: 0.9448\n",
            "Epoch 2/5\n",
            "1875/1875 [==============================] - 26s 14ms/step - loss: 0.1435 - accuracy: 0.9591 - val_loss: 0.1081 - val_accuracy: 0.9680\n",
            "Epoch 3/5\n",
            "1875/1875 [==============================] - 20s 11ms/step - loss: 0.0949 - accuracy: 0.9731 - val_loss: 0.0818 - val_accuracy: 0.9753\n",
            "Epoch 4/5\n",
            "1875/1875 [==============================] - 17s 9ms/step - loss: 0.0744 - accuracy: 0.9784 - val_loss: 0.0696 - val_accuracy: 0.9776\n",
            "Epoch 5/5\n",
            "1875/1875 [==============================] - 22s 12ms/step - loss: 0.0616 - accuracy: 0.9817 - val_loss: 0.0637 - val_accuracy: 0.9791\n"
          ]
        },
        {
          "output_type": "execute_result",
          "data": {
            "text/plain": [
              "<keras.callbacks.History at 0x7fe7274b5a90>"
            ]
          },
          "metadata": {},
          "execution_count": 2
        }
      ],
      "metadata": {
        "id": "eMsw_6HujaqM",
        "colab": {
          "base_uri": "https://localhost:8080/"
        },
        "outputId": "749e3f5d-e1d0-4624-d09c-25ece64d15c5"
      }
    },
    {
      "cell_type": "markdown",
      "source": [
        "## Convert to a TensorFlow Lite model"
      ],
      "metadata": {
        "id": "KuTEoGFYd8aM"
      }
    },
    {
      "cell_type": "markdown",
      "source": [
        "You can convert the trained model to TensorFlow Lite format using the [`TFLiteConverter`](https://www.tensorflow.org/lite/convert/python_api) API, and apply varying degrees of quantization.\n",
        "\n",
        "Beware that some versions of quantization leave some of the data in float format. So the following sections show each option with increasing amounts of quantization, until we get a model that's entirely int8 or uint8 data. (Notice we duplicate some code in each section so you can see all the quantization steps for each option.)\n",
        "\n",
        "First, here's a converted model with no quantization:"
      ],
      "metadata": {
        "id": "xl8_fzVAZwOh"
      }
    },
    {
      "cell_type": "code",
      "execution_count": 10,
      "source": [
        "converter = tf.lite.TFLiteConverter.from_keras_model(model)\n",
        "tflite_model = converter.convert()\n",
        "\n",
        "with open('non-quant_model.tflite', 'wb') as f:\n",
        "  f.write(tflite_model)\n",
        "\n",
        "print('Model size is %f MBs.' % (len(tflite_model) / 1024 / 1024.0) )"
      ],
      "outputs": [
        {
          "output_type": "stream",
          "name": "stdout",
          "text": [
            "INFO:tensorflow:Assets written to: /tmp/tmpbsv9ub3q/assets\n"
          ]
        },
        {
          "output_type": "stream",
          "name": "stderr",
          "text": [
            "INFO:tensorflow:Assets written to: /tmp/tmpbsv9ub3q/assets\n",
            "WARNING:absl:Buffer deduplication procedure will be skipped when flatbuffer library is not properly loaded\n"
          ]
        },
        {
          "output_type": "stream",
          "name": "stdout",
          "text": [
            "Model size is 0.080624 MBs.\n"
          ]
        }
      ],
      "metadata": {
        "id": "_i8B2nDZmAgQ",
        "colab": {
          "base_uri": "https://localhost:8080/"
        },
        "outputId": "c2031d1b-aa77-4cdc-a6f5-17b1658b24f0"
      }
    },
    {
      "cell_type": "code",
      "execution_count": 8,
      "source": [
        "interpreter = tf.lite.Interpreter(model_path ='non-quant_model.tflite')\n",
        "interpreter.allocate_tensors()\n",
        "input_type = interpreter.get_input_details()[0]['dtype']\n",
        "print('input type: ', input_type)\n",
        "output_type = interpreter.get_output_details()[0]['dtype']\n",
        "print('output type: ', output_type)"
      ],
      "outputs": [
        {
          "output_type": "stream",
          "name": "stdout",
          "text": [
            "input type:  <class 'numpy.float32'>\n",
            "output type:  <class 'numpy.float32'>\n"
          ]
        }
      ],
      "metadata": {
        "colab": {
          "base_uri": "https://localhost:8080/"
        },
        "id": "ZocMZsA79ggO",
        "outputId": "c2bf47c1-ebf5-4337-8a6c-a9081c86f3ec"
      }
    },
    {
      "cell_type": "markdown",
      "source": [
        "It's now a TensorFlow Lite model, but it's still using 32-bit float values for all parameter data."
      ],
      "metadata": {
        "id": "7BONhYtYocQY"
      }
    },
    {
      "cell_type": "markdown",
      "source": [
        "### **Technique-1: Post-training float16 quantization**"
      ],
      "metadata": {
        "id": "W5U17DF7yZED"
      }
    },
    {
      "cell_type": "markdown",
      "source": [
        "Weights are converted to 16-bit floating point values during model conversion from TensorFlow to TensorFlow Lite's flat buffer format. This results in a 2x reduction in model size. Some hardware, like GPUs, can compute natively in this reduced precision arithmetic, realizing a speedup over traditional floating point execution. The Tensorflow Lite GPU delegate can be configured to run in this way. However, a model converted to float16 weights can still run on the CPU without additional modification: the float16 weights are upsampled to float32 prior to the first inference. This permits a significant reduction in model size in exchange for a minimal impacts to latency and accuracy."
      ],
      "metadata": {
        "id": "u3Ud4Hn6yl_c"
      }
    },
    {
      "cell_type": "markdown",
      "source": [
        "To quantize the model to float16 on export, first set the optimizations flag to use default optimizations. Then specify that float16 is the supported type on the target platform:"
      ],
      "metadata": {
        "id": "vtng-syY76DG"
      }
    },
    {
      "cell_type": "code",
      "execution_count": 36,
      "source": [
        "converter = tf.lite.TFLiteConverter.from_keras_model(model)\n",
        "converter.optimizations = [tf.lite.Optimize.DEFAULT]\n",
        "converter.target_spec.supported_types = [tf.float16]\n",
        "tflite_model = converter.convert()\n",
        "\n",
        "with open('post-training_f16_quant.tflite', 'wb') as f:\n",
        "  f.write(tflite_model)\n",
        "\n",
        "print('Model size is %f MBs.' % (len(tflite_model) / 1024 / 1024.0) )"
      ],
      "outputs": [
        {
          "output_type": "stream",
          "name": "stdout",
          "text": [
            "INFO:tensorflow:Assets written to: /tmp/tmpvzriikqq/assets\n"
          ]
        },
        {
          "output_type": "stream",
          "name": "stderr",
          "text": [
            "INFO:tensorflow:Assets written to: /tmp/tmpvzriikqq/assets\n",
            "WARNING:absl:Buffer deduplication procedure will be skipped when flatbuffer library is not properly loaded\n"
          ]
        },
        {
          "output_type": "stream",
          "name": "stdout",
          "text": [
            "Model size is 0.042328 MBs.\n"
          ]
        }
      ],
      "metadata": {
        "id": "BxelQWIcJIBz",
        "colab": {
          "base_uri": "https://localhost:8080/"
        },
        "outputId": "dde228b2-37e2-4a7d-f772-ed0d9169466e"
      }
    },
    {
      "cell_type": "code",
      "execution_count": 37,
      "source": [
        "interpreter = tf.lite.Interpreter(model_path ='post-training_f16_quant.tflite')\n",
        "interpreter.allocate_tensors()\n",
        "input_type = interpreter.get_input_details()[0]['dtype']\n",
        "print('input type: ', input_type)\n",
        "output_type = interpreter.get_output_details()[0]['dtype']\n",
        "print('output type: ', output_type)"
      ],
      "outputs": [
        {
          "output_type": "stream",
          "name": "stdout",
          "text": [
            "input type:  <class 'numpy.float32'>\n",
            "output type:  <class 'numpy.float32'>\n"
          ]
        }
      ],
      "metadata": {
        "colab": {
          "base_uri": "https://localhost:8080/"
        },
        "id": "i-w0K8bI9HMC",
        "outputId": "bce54338-bee6-4b29-d7b0-1e44126c2ddc"
      }
    },
    {
      "cell_type": "markdown",
      "source": [
        "### **Technique-2: Post-training dynamic range quantization**\n"
      ],
      "metadata": {
        "id": "jPYZwgZTwJMT"
      }
    },
    {
      "cell_type": "markdown",
      "source": [
        "Now let's enable the default `optimizations` flag to quantize all fixed parameters (such as weights). The activations are always stored in floating point. For ops that support quantized kernels, the activations are quantized to 8 bits of precision dynamically prior to processing and are de-quantized to float precision after processing. Depending on the model being converted, this can give a speedup over pure floating point computation."
      ],
      "metadata": {
        "id": "Hjvq1vpJd4U_"
      }
    },
    {
      "cell_type": "code",
      "execution_count": 14,
      "source": [
        "converter = tf.lite.TFLiteConverter.from_keras_model(model)\n",
        "converter.optimizations = [tf.lite.Optimize.DEFAULT]\n",
        "\n",
        "tflite_model = converter.convert()\n",
        "\n",
        "with open('post-training_dynamic_quant.tflite', 'wb') as f:\n",
        "  f.write(tflite_model)\n",
        "print('Model size is %f MBs.' % (len(tflite_model) / 1024 / 1024.0) )"
      ],
      "outputs": [
        {
          "output_type": "stream",
          "name": "stdout",
          "text": [
            "INFO:tensorflow:Assets written to: /tmp/tmpudti6hog/assets\n"
          ]
        },
        {
          "output_type": "stream",
          "name": "stderr",
          "text": [
            "INFO:tensorflow:Assets written to: /tmp/tmpudti6hog/assets\n",
            "WARNING:absl:Buffer deduplication procedure will be skipped when flatbuffer library is not properly loaded\n"
          ]
        },
        {
          "output_type": "stream",
          "name": "stdout",
          "text": [
            "Model size is 0.022812 MBs.\n"
          ]
        }
      ],
      "metadata": {
        "id": "HEZ6ET1AHAS3",
        "colab": {
          "base_uri": "https://localhost:8080/"
        },
        "outputId": "693866e8-fdbf-4c98-c619-65405a780d8e"
      }
    },
    {
      "cell_type": "code",
      "execution_count": 15,
      "source": [
        "interpreter_quant = tf.lite.Interpreter(model_path='post-training_dynamic_quant.tflite')\n",
        "interpreter_quant.allocate_tensors()\n",
        "input_type = interpreter_quant.get_input_details()[0]['dtype']\n",
        "print('input: ', input_type)\n",
        "output_type = interpreter_quant.get_output_details()[0]['dtype']\n",
        "print('output: ', output_type)"
      ],
      "outputs": [
        {
          "output_type": "stream",
          "name": "stdout",
          "text": [
            "input:  <class 'numpy.float32'>\n",
            "output:  <class 'numpy.float32'>\n"
          ]
        }
      ],
      "metadata": {
        "id": "_b388c3Bu87D",
        "colab": {
          "base_uri": "https://localhost:8080/"
        },
        "outputId": "f37e6805-9a12-4a19-f3d9-cce9ba4175ed"
      }
    },
    {
      "cell_type": "markdown",
      "source": [
        "The model is now a bit smaller with quantized weights, but other variable data is still in float format."
      ],
      "metadata": {
        "id": "o5wuE-RcdX_3"
      }
    },
    {
      "cell_type": "markdown",
      "source": [
        "### **Technique-3: Post-training integer quantization**"
      ],
      "metadata": {
        "id": "Q-Teu7zL-Q5e"
      }
    },
    {
      "cell_type": "markdown",
      "source": [
        "Integer quantization is an optimization strategy that converts 32-bit floating-point numbers (such as weights and activation outputs) to the nearest 8-bit fixed-point numbers."
      ],
      "metadata": {
        "id": "s76APeJk-XEM"
      }
    },
    {
      "cell_type": "markdown",
      "source": [
        "1) **Convert using float fallback quantization**"
      ],
      "metadata": {
        "id": "UgKDdnHQEhpb"
      }
    },
    {
      "cell_type": "markdown",
      "source": [
        "To quantize the variable data (such as model input/output and intermediates between layers), you need to provide a [`RepresentativeDataset`](https://www.tensorflow.org/api_docs/python/tf/lite/RepresentativeDataset). This is a generator function that provides a set of input data that's large enough to represent typical values. It allows the converter to estimate a dynamic range for all the variable data. (The dataset does not need to be unique compared to the training or evaluation dataset.)\n",
        "To support multiple inputs, each representative data point is a list and elements in the list are fed to the model according to their indices.\n"
      ],
      "metadata": {
        "id": "rTe8avZJHMDO"
      }
    },
    {
      "cell_type": "code",
      "execution_count": 21,
      "source": [
        "def representative_data_gen():\n",
        "  for input_value in tf.data.Dataset.from_tensor_slices(train_images).batch(1).take(100):\n",
        "    # Model has only one input so each data point has one element.\n",
        "    yield [input_value]\n",
        "\n",
        "converter = tf.lite.TFLiteConverter.from_keras_model(model)\n",
        "converter.optimizations = [tf.lite.Optimize.DEFAULT]\n",
        "converter.representative_dataset = representative_data_gen\n",
        "tflite_model = converter.convert()\n",
        "\n",
        "with open('quant_float.tflite', 'wb') as f:\n",
        "  f.write(tflite_model)\n",
        "print('Model size is %f MBs.' % (len(tflite_model) / 1024 / 1024.0) )"
      ],
      "outputs": [
        {
          "output_type": "stream",
          "name": "stdout",
          "text": [
            "INFO:tensorflow:Assets written to: /tmp/tmp7usno0x7/assets\n"
          ]
        },
        {
          "output_type": "stream",
          "name": "stderr",
          "text": [
            "INFO:tensorflow:Assets written to: /tmp/tmp7usno0x7/assets\n",
            "/usr/local/lib/python3.7/dist-packages/tensorflow/lite/python/convert.py:746: UserWarning: Statistics for quantized inputs were expected, but not specified; continuing anyway.\n",
            "  warnings.warn(\"Statistics for quantized inputs were expected, but not \"\n",
            "WARNING:absl:Buffer deduplication procedure will be skipped when flatbuffer library is not properly loaded\n"
          ]
        },
        {
          "output_type": "stream",
          "name": "stdout",
          "text": [
            "Model size is 0.023163 MBs.\n"
          ]
        }
      ],
      "metadata": {
        "id": "FiwiWU3gHdkW",
        "colab": {
          "base_uri": "https://localhost:8080/"
        },
        "outputId": "761ff242-7a1d-4e46-b740-efdc17ce9788"
      }
    },
    {
      "cell_type": "markdown",
      "source": [
        "Now all weights and variable data are quantized, and the model is significantly smaller compared to the original TensorFlow Lite model.\n",
        "\n",
        "However, to maintain compatibility with applications that traditionally use float model input and output tensors, the TensorFlow Lite Converter leaves the model input and output tensors in float:"
      ],
      "metadata": {
        "id": "_GC3HFlptf7x"
      }
    },
    {
      "cell_type": "code",
      "execution_count": 18,
      "source": [
        "interpreter_quant_float = tf.lite.Interpreter(model_path='quant_float.tflite.tflite')\n",
        "interpreter_quant_float.allocate_tensors()\n",
        "input_type = interpreter_quant_float.get_input_details()[0]['dtype']\n",
        "print('input: ', input_type)\n",
        "output_type = interpreter_quant_float.get_output_details()[0]['dtype']\n",
        "print('output: ', output_type)"
      ],
      "outputs": [
        {
          "output_type": "stream",
          "name": "stdout",
          "text": [
            "input:  <class 'numpy.float32'>\n",
            "output:  <class 'numpy.float32'>\n"
          ]
        }
      ],
      "metadata": {
        "id": "id1OEKFELQwp",
        "colab": {
          "base_uri": "https://localhost:8080/"
        },
        "outputId": "c6edee0e-b97a-42a8-f38a-f0facc3f7c79"
      }
    },
    {
      "cell_type": "markdown",
      "source": [
        "That's usually good for compatibility, but it won't be compatible with devices that perform only integer-based operations, such as the Edge TPU.\n",
        "\n",
        "Additionally, the above process may leave an operation in float format if TensorFlow Lite doesn't include a quantized implementation for that operation. This strategy allows conversion to complete so you have a smaller and more efficient model, but again, it won't be compatible with integer-only hardware. (All ops in this MNIST model have a quantized implementation.)\n",
        "\n",
        "So to ensure an end-to-end integer-only model, you need a couple more parameters..."
      ],
      "metadata": {
        "id": "RACBJuj2XO8x"
      }
    },
    {
      "cell_type": "markdown",
      "source": [
        "2) **Convert using integer-only quantization**\n",
        "\n"
      ],
      "metadata": {
        "id": "FQgTqbvPvxGJ"
      }
    },
    {
      "cell_type": "markdown",
      "source": [
        "To quantize the input and output tensors, and make the converter throw an error if it encounters an operation it cannot quantize, convert the model again with some additional parameters:"
      ],
      "metadata": {
        "id": "mwR9keYAwArA"
      }
    },
    {
      "cell_type": "code",
      "execution_count": 19,
      "source": [
        "def representative_data_gen():\n",
        "  for input_value in tf.data.Dataset.from_tensor_slices(train_images).batch(1).take(100):\n",
        "    yield [input_value]\n",
        "\n",
        "converter = tf.lite.TFLiteConverter.from_keras_model(model)\n",
        "converter.optimizations = [tf.lite.Optimize.DEFAULT]\n",
        "converter.representative_dataset = representative_data_gen\n",
        "# Ensure that if any ops can't be quantized, the converter throws an error\n",
        "converter.target_spec.supported_ops = [tf.lite.OpsSet.TFLITE_BUILTINS_INT8]\n",
        "# Set the input and output tensors to uint8 (APIs added in r2.3)\n",
        "converter.inference_input_type = tf.uint8\n",
        "converter.inference_output_type = tf.uint8\n",
        "tflite_model = converter.convert()\n",
        "\n",
        "with open('quant_int.tflite', 'wb') as f:\n",
        "  f.write(tflite_model)\n",
        "print('Model size is %f MBs.' % (len(tflite_model) / 1024 / 1024.0) )"
      ],
      "outputs": [
        {
          "output_type": "stream",
          "name": "stdout",
          "text": [
            "INFO:tensorflow:Assets written to: /tmp/tmpwso7nzpm/assets\n"
          ]
        },
        {
          "output_type": "stream",
          "name": "stderr",
          "text": [
            "INFO:tensorflow:Assets written to: /tmp/tmpwso7nzpm/assets\n",
            "/usr/local/lib/python3.7/dist-packages/tensorflow/lite/python/convert.py:746: UserWarning: Statistics for quantized inputs were expected, but not specified; continuing anyway.\n",
            "  warnings.warn(\"Statistics for quantized inputs were expected, but not \"\n",
            "WARNING:absl:Buffer deduplication procedure will be skipped when flatbuffer library is not properly loaded\n"
          ]
        },
        {
          "output_type": "stream",
          "name": "stdout",
          "text": [
            "Model size is 0.023186 MBs.\n"
          ]
        }
      ],
      "metadata": {
        "id": "kzjEjcDs3BHa",
        "colab": {
          "base_uri": "https://localhost:8080/"
        },
        "outputId": "493f6ddf-fb4e-4719-c53f-25168c6467d3"
      }
    },
    {
      "cell_type": "markdown",
      "source": [
        "The internal quantization remains the same as above, but you can see the input and output tensors are now integer format:\n"
      ],
      "metadata": {
        "id": "wYd6NxD03yjB"
      }
    },
    {
      "cell_type": "code",
      "execution_count": 20,
      "source": [
        "interpreter_quant_int = tf.lite.Interpreter(model_path='quant_int.tflite')\n",
        "interpreter_quant_int.allocate_tensors()\n",
        "input_type = interpreter_quant_int.get_input_details()[0]['dtype']\n",
        "print('input: ', input_type)\n",
        "output_type = interpreter_quant_int.get_output_details()[0]['dtype']\n",
        "print('output: ', output_type)"
      ],
      "outputs": [
        {
          "output_type": "stream",
          "name": "stdout",
          "text": [
            "input:  <class 'numpy.uint8'>\n",
            "output:  <class 'numpy.uint8'>\n"
          ]
        }
      ],
      "metadata": {
        "id": "PaNkOS-twz4k",
        "colab": {
          "base_uri": "https://localhost:8080/"
        },
        "outputId": "abab0ab8-c206-46b3-dbe1-99639703fcfd"
      }
    },
    {
      "cell_type": "markdown",
      "source": [
        "Now you have an integer quantized model that uses integer data for the model's input and output tensors, so it's compatible with integer-only hardware such as the [Edge TPU](https://coral.ai)."
      ],
      "metadata": {
        "id": "TO17AP84wzBb"
      }
    },
    {
      "cell_type": "markdown",
      "source": [
        "### **Technique-4: Quantization Aware Training**"
      ],
      "metadata": {
        "id": "c39DNS7IiXcG"
      }
    },
    {
      "cell_type": "markdown",
      "source": [
        "Clone and fine-tune pre-trained model with quantization aware training"
      ],
      "metadata": {
        "id": "9vXmnSBajnNZ"
      }
    },
    {
      "cell_type": "markdown",
      "source": [
        "**Setup**"
      ],
      "metadata": {
        "id": "fpmYJ1kTmvxB"
      }
    },
    {
      "cell_type": "code",
      "execution_count": 22,
      "source": [
        "!pip install -q tensorflow-model-optimization"
      ],
      "outputs": [
        {
          "output_type": "stream",
          "name": "stdout",
          "text": [
            "\u001b[?25l\r\u001b[K     |█▍                              | 10 kB 19.4 MB/s eta 0:00:01\r\u001b[K     |██▉                             | 20 kB 26.7 MB/s eta 0:00:01\r\u001b[K     |████▏                           | 30 kB 22.8 MB/s eta 0:00:01\r\u001b[K     |█████▋                          | 40 kB 18.0 MB/s eta 0:00:01\r\u001b[K     |███████                         | 51 kB 8.2 MB/s eta 0:00:01\r\u001b[K     |████████▍                       | 61 kB 9.6 MB/s eta 0:00:01\r\u001b[K     |█████████▉                      | 71 kB 9.2 MB/s eta 0:00:01\r\u001b[K     |███████████▏                    | 81 kB 9.3 MB/s eta 0:00:01\r\u001b[K     |████████████▋                   | 92 kB 10.3 MB/s eta 0:00:01\r\u001b[K     |██████████████                  | 102 kB 8.6 MB/s eta 0:00:01\r\u001b[K     |███████████████▍                | 112 kB 8.6 MB/s eta 0:00:01\r\u001b[K     |████████████████▊               | 122 kB 8.6 MB/s eta 0:00:01\r\u001b[K     |██████████████████▏             | 133 kB 8.6 MB/s eta 0:00:01\r\u001b[K     |███████████████████▋            | 143 kB 8.6 MB/s eta 0:00:01\r\u001b[K     |█████████████████████           | 153 kB 8.6 MB/s eta 0:00:01\r\u001b[K     |██████████████████████▍         | 163 kB 8.6 MB/s eta 0:00:01\r\u001b[K     |███████████████████████▊        | 174 kB 8.6 MB/s eta 0:00:01\r\u001b[K     |█████████████████████████▏      | 184 kB 8.6 MB/s eta 0:00:01\r\u001b[K     |██████████████████████████▌     | 194 kB 8.6 MB/s eta 0:00:01\r\u001b[K     |████████████████████████████    | 204 kB 8.6 MB/s eta 0:00:01\r\u001b[K     |█████████████████████████████▍  | 215 kB 8.6 MB/s eta 0:00:01\r\u001b[K     |██████████████████████████████▊ | 225 kB 8.6 MB/s eta 0:00:01\r\u001b[K     |████████████████████████████████| 234 kB 8.6 MB/s \n",
            "\u001b[?25h"
          ]
        }
      ],
      "metadata": {
        "id": "EZwuEZbomuyb",
        "colab": {
          "base_uri": "https://localhost:8080/"
        },
        "outputId": "46f87cc1-6268-40fe-90b7-53066c8dc334"
      }
    },
    {
      "cell_type": "markdown",
      "source": [
        "**Define the model**\n",
        "\n",
        "You will apply quantization aware training to the whole model and see this in the model summary. All layers are now prefixed by \"quant\".\n",
        "\n",
        "Note that the resulting model is quantization aware but not quantized (e.g. the weights are float32 instead of int8). The sections after show how to create a quantized model from the quantization aware one.\n",
        "\n",
        "In the [comprehensive guide](https://www.tensorflow.org/model_optimization/guide/quantization/training_comprehensive_guide.md), you can see how to quantize some layers for model accuracy improvements."
      ],
      "metadata": {
        "id": "eM54LOZpj2rR"
      }
    },
    {
      "cell_type": "code",
      "execution_count": 24,
      "source": [
        "import tensorflow_model_optimization as tfmot\n",
        "\n",
        "quantize_model = tfmot.quantization.keras.quantize_model\n",
        "\n",
        "# q_aware stands for for quantization aware.\n",
        "q_aware_model = quantize_model(model)\n",
        "\n",
        "# `quantize_model` requires a recompile.\n",
        "q_aware_model.compile(optimizer='adam',\n",
        "              loss=tf.keras.losses.SparseCategoricalCrossentropy(from_logits=True),\n",
        "              metrics=['accuracy'])\n",
        "\n",
        "q_aware_model.summary()"
      ],
      "outputs": [
        {
          "output_type": "stream",
          "name": "stdout",
          "text": [
            "Model: \"sequential\"\n",
            "_________________________________________________________________\n",
            " Layer (type)                Output Shape              Param #   \n",
            "=================================================================\n",
            " quantize_layer (QuantizeLay  (None, 28, 28)           3         \n",
            " er)                                                             \n",
            "                                                                 \n",
            " quant_reshape (QuantizeWrap  (None, 28, 28, 1)        1         \n",
            " perV2)                                                          \n",
            "                                                                 \n",
            " quant_conv2d (QuantizeWrapp  (None, 26, 26, 12)       147       \n",
            " erV2)                                                           \n",
            "                                                                 \n",
            " quant_max_pooling2d (Quanti  (None, 13, 13, 12)       1         \n",
            " zeWrapperV2)                                                    \n",
            "                                                                 \n",
            " quant_flatten (QuantizeWrap  (None, 2028)             1         \n",
            " perV2)                                                          \n",
            "                                                                 \n",
            " quant_dense (QuantizeWrappe  (None, 10)               20295     \n",
            " rV2)                                                            \n",
            "                                                                 \n",
            "=================================================================\n",
            "Total params: 20,448\n",
            "Trainable params: 20,410\n",
            "Non-trainable params: 38\n",
            "_________________________________________________________________\n"
          ]
        }
      ],
      "metadata": {
        "colab": {
          "base_uri": "https://localhost:8080/"
        },
        "id": "xdMTEiQwjbfT",
        "outputId": "10569ca3-21a1-446c-e8e9-c4cdf1d64acb"
      }
    },
    {
      "cell_type": "markdown",
      "source": [
        "**Train and evaluate the model against baseline**\n",
        "\n",
        "To demonstrate fine tuning after training the model for just an epoch, fine tune with quantization aware training on the training data."
      ],
      "metadata": {
        "id": "wsRh5C-3kI2J"
      }
    },
    {
      "cell_type": "code",
      "execution_count": 25,
      "source": [
        "train_images_subset = train_images[0:1000] # out of 60000\n",
        "train_labels_subset = train_labels[0:1000]\n",
        "\n",
        "q_aware_model.fit(train_images_subset, train_labels_subset,\n",
        "                  batch_size=500, epochs=1, validation_split=0.1)"
      ],
      "outputs": [
        {
          "output_type": "stream",
          "name": "stdout",
          "text": [
            "2/2 [==============================] - 1s 316ms/step - loss: 0.0613 - accuracy: 0.9867 - val_loss: 0.0735 - val_accuracy: 0.9800\n"
          ]
        },
        {
          "output_type": "execute_result",
          "data": {
            "text/plain": [
              "<keras.callbacks.History at 0x7fe722eec690>"
            ]
          },
          "metadata": {},
          "execution_count": 25
        }
      ],
      "metadata": {
        "colab": {
          "base_uri": "https://localhost:8080/"
        },
        "id": "_QRpnMEtkMa-",
        "outputId": "ee4ae5d1-a2f3-4740-a183-b1288040af42"
      }
    },
    {
      "cell_type": "markdown",
      "source": [
        "**Create quantized model for TFLite backend**\n",
        "\n",
        "After this, you have an actually quantized model with int8 weights and uint8 activations.\n"
      ],
      "metadata": {
        "id": "ENvkExL-krgw"
      }
    },
    {
      "cell_type": "code",
      "execution_count": 26,
      "source": [
        "converter = tf.lite.TFLiteConverter.from_keras_model(q_aware_model)\n",
        "converter.optimizations = [tf.lite.Optimize.DEFAULT]\n",
        "quant_aware_training = converter.convert()\n",
        "\n",
        "converter = tf.lite.TFLiteConverter.from_keras_model(q_aware_model)\n",
        "converter.optimizations = [tf.lite.Optimize.DEFAULT]\n",
        "tflite_model = converter.convert()\n",
        "\n",
        "with open('quant_aware_training.tflite', 'wb') as f:\n",
        "  f.write(tflite_model)\n",
        "print('Model size is %f MBs.' % (len(tflite_model) / 1024 / 1024.0) )"
      ],
      "outputs": [
        {
          "output_type": "stream",
          "name": "stderr",
          "text": [
            "WARNING:absl:Found untraced functions such as reshape_layer_call_fn, reshape_layer_call_and_return_conditional_losses, conv2d_layer_call_fn, conv2d_layer_call_and_return_conditional_losses, flatten_layer_call_fn while saving (showing 5 of 8). These functions will not be directly callable after loading.\n"
          ]
        },
        {
          "output_type": "stream",
          "name": "stdout",
          "text": [
            "INFO:tensorflow:Assets written to: /tmp/tmpzeb69ra3/assets\n"
          ]
        },
        {
          "output_type": "stream",
          "name": "stderr",
          "text": [
            "INFO:tensorflow:Assets written to: /tmp/tmpzeb69ra3/assets\n",
            "/usr/local/lib/python3.7/dist-packages/tensorflow/lite/python/convert.py:746: UserWarning: Statistics for quantized inputs were expected, but not specified; continuing anyway.\n",
            "  warnings.warn(\"Statistics for quantized inputs were expected, but not \"\n",
            "WARNING:absl:Buffer deduplication procedure will be skipped when flatbuffer library is not properly loaded\n",
            "WARNING:absl:Found untraced functions such as reshape_layer_call_fn, reshape_layer_call_and_return_conditional_losses, conv2d_layer_call_fn, conv2d_layer_call_and_return_conditional_losses, flatten_layer_call_fn while saving (showing 5 of 8). These functions will not be directly callable after loading.\n"
          ]
        },
        {
          "output_type": "stream",
          "name": "stdout",
          "text": [
            "INFO:tensorflow:Assets written to: /tmp/tmppap1v6p4/assets\n"
          ]
        },
        {
          "output_type": "stream",
          "name": "stderr",
          "text": [
            "INFO:tensorflow:Assets written to: /tmp/tmppap1v6p4/assets\n",
            "/usr/local/lib/python3.7/dist-packages/tensorflow/lite/python/convert.py:746: UserWarning: Statistics for quantized inputs were expected, but not specified; continuing anyway.\n",
            "  warnings.warn(\"Statistics for quantized inputs were expected, but not \"\n",
            "WARNING:absl:Buffer deduplication procedure will be skipped when flatbuffer library is not properly loaded\n"
          ]
        },
        {
          "output_type": "stream",
          "name": "stdout",
          "text": [
            "Model size is 0.023468 MBs.\n"
          ]
        }
      ],
      "metadata": {
        "colab": {
          "base_uri": "https://localhost:8080/"
        },
        "id": "QUSl6gUvkpJU",
        "outputId": "d307b21f-892e-4f8b-eb65-67d55416574b"
      }
    },
    {
      "cell_type": "markdown",
      "source": [
        "## Run the TensorFlow Lite models"
      ],
      "metadata": {
        "id": "9t9yaTeF9fyM"
      }
    },
    {
      "cell_type": "markdown",
      "source": [
        "Now we'll run inferences using the TensorFlow Lite [`Interpreter`](https://www.tensorflow.org/api_docs/python/tf/lite/Interpreter) to compare the model accuracies.\n",
        "\n",
        "First, we need a function that runs inference with a given model and images, and then returns the predictions:\n"
      ],
      "metadata": {
        "id": "L8lQHMp_asCq"
      }
    },
    {
      "cell_type": "code",
      "execution_count": 38,
      "source": [
        "# Helper function to run inference on a TFLite model\n",
        "def run_tflite_model(tflite_file, test_image_indices):\n",
        "  global test_images\n",
        "\n",
        "  # Initialize the interpreter\n",
        "  interpreter = tf.lite.Interpreter(model_path=str(tflite_file))\n",
        "  interpreter.allocate_tensors()\n",
        "\n",
        "  input_details = interpreter.get_input_details()[0]\n",
        "  output_details = interpreter.get_output_details()[0]\n",
        "\n",
        "  predictions = np.zeros((len(test_image_indices),), dtype=int)\n",
        "  for i, test_image_index in enumerate(test_image_indices):\n",
        "    test_image = test_images[test_image_index]\n",
        "    test_label = test_labels[test_image_index]\n",
        "\n",
        "    # Check if the input type is quantized, then rescale input data to uint8\n",
        "    if input_details['dtype'] == np.uint8:\n",
        "      input_scale, input_zero_point = input_details[\"quantization\"]\n",
        "      test_image = test_image / input_scale + input_zero_point\n",
        "\n",
        "    test_image = np.expand_dims(test_image, axis=0).astype(input_details[\"dtype\"])\n",
        "    interpreter.set_tensor(input_details[\"index\"], test_image)\n",
        "    interpreter.invoke()\n",
        "    output = interpreter.get_tensor(output_details[\"index\"])[0]\n",
        "\n",
        "    predictions[i] = output.argmax()\n",
        "\n",
        "  return predictions\n"
      ],
      "outputs": [],
      "metadata": {
        "id": "X092SbeWfd1A"
      }
    },
    {
      "cell_type": "markdown",
      "source": [
        "### Evaluate the models on all images"
      ],
      "metadata": {
        "id": "LwN7uIdCd8Gw"
      }
    },
    {
      "cell_type": "markdown",
      "source": [
        "Now let's run both models using all the test images we loaded at the beginning of this tutorial:"
      ],
      "metadata": {
        "id": "RFKOD4DG8XmU"
      }
    },
    {
      "cell_type": "code",
      "execution_count": 30,
      "source": [
        "# Helper function to evaluate a TFLite model on all images\n",
        "def evaluate_model(tflite_file, model_type):\n",
        "  global test_images\n",
        "  global test_labels\n",
        "\n",
        "  test_image_indices = range(test_images.shape[0])\n",
        "  predictions = run_tflite_model(tflite_file, test_image_indices)\n",
        "\n",
        "  accuracy = (np.sum(test_labels== predictions) * 100) / len(test_images)\n",
        "\n",
        "  print('%s model accuracy is %.4f%% (Number of test samples=%d)' % (\n",
        "      model_type, accuracy, len(test_images)))"
      ],
      "outputs": [],
      "metadata": {
        "id": "05aeAuWjvjPx"
      }
    },
    {
      "cell_type": "markdown",
      "source": [
        "**Technique-1 Evaluation**"
      ],
      "metadata": {
        "id": "pP0rxDpopnQd"
      }
    },
    {
      "cell_type": "code",
      "execution_count": 39,
      "source": [
        "evaluate_model('post-training_f16_quant.tflite', model_type=\"post-training_f16_quant.tflite\")"
      ],
      "outputs": [
        {
          "output_type": "stream",
          "name": "stdout",
          "text": [
            "post-training_f16_quant.tflite model accuracy is 97.9100% (Number of test samples=10000)\n"
          ]
        }
      ],
      "metadata": {
        "colab": {
          "base_uri": "https://localhost:8080/"
        },
        "id": "BtyRS87TS4XO",
        "outputId": "851576f8-6e74-4113-e3e6-6fc1cc9c9592"
      }
    },
    {
      "cell_type": "markdown",
      "source": [
        "**Technique-2 Evaluation**"
      ],
      "metadata": {
        "id": "xnFilQpBuMh5"
      }
    },
    {
      "cell_type": "code",
      "execution_count": 32,
      "source": [
        "evaluate_model('post-training_dynamic_quant.tflite', model_type=\"post-training_dynamic_quant.tflite\")"
      ],
      "outputs": [
        {
          "output_type": "stream",
          "name": "stdout",
          "text": [
            "post-training_dynamic_quant.tflite model accuracy is 97.9300% (Number of test samples=10000)\n"
          ]
        }
      ],
      "metadata": {
        "colab": {
          "base_uri": "https://localhost:8080/"
        },
        "id": "1vLNC2_upyEB",
        "outputId": "a5eef1e3-0ca2-4ce3-f5ec-160307496b2d"
      }
    },
    {
      "cell_type": "markdown",
      "source": [
        "**Technique-3 Evaluation**"
      ],
      "metadata": {
        "id": "DLWIlqBzqD5n"
      }
    },
    {
      "cell_type": "code",
      "execution_count": 33,
      "source": [
        "evaluate_model('quant_float.tflite', model_type=\"quant_float.tflite\")"
      ],
      "outputs": [
        {
          "output_type": "stream",
          "name": "stdout",
          "text": [
            "quant_float.tflite model accuracy is 97.9500% (Number of test samples=10000)\n"
          ]
        }
      ],
      "metadata": {
        "id": "T5mWkSbMcU5z",
        "colab": {
          "base_uri": "https://localhost:8080/"
        },
        "outputId": "2eaf6450-f10f-47ab-8ff8-bfc5e353de8e"
      }
    },
    {
      "cell_type": "code",
      "execution_count": 34,
      "source": [
        "evaluate_model('quant_int.tflite', model_type=\"quant_int.tflite\")"
      ],
      "outputs": [
        {
          "output_type": "stream",
          "name": "stdout",
          "text": [
            "quant_int.tflite model accuracy is 97.9500% (Number of test samples=10000)\n"
          ]
        }
      ],
      "metadata": {
        "id": "-9cnwiPp6EGm",
        "colab": {
          "base_uri": "https://localhost:8080/"
        },
        "outputId": "6059a726-d2b7-464f-a11c-00c1caeac837"
      }
    },
    {
      "cell_type": "markdown",
      "source": [
        "**Technique-4 Evaluation**"
      ],
      "metadata": {
        "id": "MgBZ2oBpqOrL"
      }
    },
    {
      "cell_type": "code",
      "execution_count": 35,
      "source": [
        "evaluate_model('quant_aware_training.tflite', model_type=\"quant_aware_training.tflite\")"
      ],
      "outputs": [
        {
          "output_type": "stream",
          "name": "stdout",
          "text": [
            "quant_aware_training.tflite model accuracy is 97.9500% (Number of test samples=10000)\n"
          ]
        }
      ],
      "metadata": {
        "colab": {
          "base_uri": "https://localhost:8080/"
        },
        "id": "LGGJov3IqLxX",
        "outputId": "f3c0d172-8f29-4461-9fa1-cce7a9e1b99d"
      }
    },
    {
      "cell_type": "markdown",
      "source": [
        "We can't really compare the accuracy of different quantization techniques. Though quantization aware training is often better for model accuracy. \n",
        "\n",
        "To learn more about other quantization strategies, read about [TensorFlow Lite model optimization](https://www.tensorflow.org/lite/performance/model_optimization)."
      ],
      "metadata": {
        "id": "L7lfxkor8pgv"
      }
    }
  ]
}